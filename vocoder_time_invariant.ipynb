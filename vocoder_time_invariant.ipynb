{
  "nbformat": 4,
  "nbformat_minor": 0,
  "metadata": {
    "colab": {
      "name": "vocoder-time-invariant",
      "provenance": [],
      "collapsed_sections": [],
      "mount_file_id": "16Uzh3dm93JYPTT4qErc-0y1t6XySufv7",
      "authorship_tag": "ABX9TyMZwRzr+dscup/P6X7CO1v9",
      "include_colab_link": true
    },
    "kernelspec": {
      "name": "python3",
      "display_name": "Python 3"
    },
    "language_info": {
      "name": "python"
    }
  },
  "cells": [
    {
      "cell_type": "markdown",
      "metadata": {
        "id": "view-in-github",
        "colab_type": "text"
      },
      "source": [
        "<a href=\"https://colab.research.google.com/github/torkralle/colab-overtone/blob/master/vocoder_time_invariant.ipynb\" target=\"_parent\"><img src=\"https://colab.research.google.com/assets/colab-badge.svg\" alt=\"Open In Colab\"/></a>"
      ]
    },
    {
      "cell_type": "code",
      "execution_count": 1,
      "metadata": {
        "id": "BQBPkTSm0w37"
      },
      "outputs": [],
      "source": [
        "import numpy as np\n",
        "import sys\n",
        "sys.path.append('/content/drive/MyDrive/Laboratory/Colab/overtone/modules')\n",
        "import wave_file as wav\n",
        "import window_function as wf\n",
        "import average_function as af\n",
        "import furie_function as ff\n",
        "import filter"
      ]
    },
    {
      "cell_type": "markdown",
      "source": [
        ""
      ],
      "metadata": {
        "id": "XKhWn2p2Aml1"
      }
    },
    {
      "cell_type": "code",
      "source": [
        "plain_sound_path = '/content/drive/MyDrive/Laboratory/Colab/overtone/sounds/plain.wav'\n",
        "fs, s0 = wav.wave_read_16bit_mono(plain_sound_path)\n",
        "\n",
        "overtone_path = '/content/drive/MyDrive/Laboratory/Colab/overtone/sounds/overtone.wav'\n",
        "fs, s1 = wav.wave_read_16bit_mono(overtone_path)"
      ],
      "metadata": {
        "id": "Q-9JFYsw9AHB"
      },
      "execution_count": 2,
      "outputs": []
    },
    {
      "cell_type": "markdown",
      "source": [
        "定数"
      ],
      "metadata": {
        "id": "ewxWa4JZCJe_"
      }
    },
    {
      "cell_type": "code",
      "source": [
        "length_of_s0 = len(s0)\n",
        "length_of_s1 = len(s1)\n",
        "\n",
        "N = 4096\n",
        "\n",
        "band_width = 8\n",
        "number_of_band = int(N / 2 / band_width)\n",
        "\n",
        "number_of_frame = int((length_of_s0 - N / 2) / (N / 2))"
      ],
      "metadata": {
        "id": "lcK9GdzdCMRk"
      },
      "execution_count": 3,
      "outputs": []
    },
    {
      "cell_type": "code",
      "source": [
        "s2 = np.zeros(length_of_s0)\n",
        "s1 = filter.highpass_filter(s1)\n",
        "\n",
        "x = np.zeros(N)\n",
        "b = np.zeros(N)\n",
        "w = wf.hanning_window(N)\n",
        "Y = np.zeros(N, dtype = np.complex)\n",
        "\n",
        "\n",
        "offset = 48000\n",
        "for n in range(N):\n",
        "    b[n] = s1[offset + n] * w[n]\n",
        "\n",
        "B = np.abs(np.fft.fft(b, N))\n",
        "\n",
        "for band in range(number_of_band):\n",
        "    offset = band_width * band\n",
        "    for k in range(band_width):\n",
        "        B[offset + k] = af.get_average(band_width, offset, B)\n",
        "\n",
        "B[0] = 0\n",
        "B[int(N / 2)] = 0\n",
        "for k in range(1, int(N / 2)):\n",
        "    B[N - k] = B[k]\n",
        "\n",
        "for frame in range(number_of_frame):\n",
        "    offset = int(N / 2) * frame\n",
        "    for n in range(N):\n",
        "        x[n] = s0[offset + n] * w[n]\n",
        "\n",
        "    X = np.fft.fft(x, N)\n",
        "\n",
        "    for k in range(N):\n",
        "        Y[k] = X[k] * B[k]\n",
        "\n",
        "    y = np.real(np.fft.ifft(Y, N))\n",
        "\n",
        "    offset = int(N / 2) * frame\n",
        "    for n in range(N):\n",
        "        s2[offset + n] += y[n]\n",
        "\n",
        "master_volume = 0.5\n",
        "s2 /= np.max(np.abs(s2))\n",
        "s2 *= master_volume\n",
        "\n",
        "wav.wave_write_16bit_mono(fs, s2, 'changed_filter.wav')"
      ],
      "metadata": {
        "id": "KkM1fx1X1Mtg"
      },
      "execution_count": 4,
      "outputs": []
    }
  ]
}