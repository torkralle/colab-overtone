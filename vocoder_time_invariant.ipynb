{
  "nbformat": 4,
  "nbformat_minor": 0,
  "metadata": {
    "colab": {
      "name": "vocoder-time-invariant",
      "provenance": [],
      "collapsed_sections": [],
      "history_visible": true,
      "mount_file_id": "16Uzh3dm93JYPTT4qErc-0y1t6XySufv7",
      "authorship_tag": "ABX9TyPLix67VUbfKATPZrMXxkic",
      "include_colab_link": true
    },
    "kernelspec": {
      "name": "python3",
      "display_name": "Python 3"
    },
    "language_info": {
      "name": "python"
    }
  },
  "cells": [
    {
      "cell_type": "markdown",
      "metadata": {
        "id": "view-in-github",
        "colab_type": "text"
      },
      "source": [
        "<a href=\"https://colab.research.google.com/github/torkralle/colab-overtone/blob/master/vocoder_time_invariant.ipynb\" target=\"_parent\"><img src=\"https://colab.research.google.com/assets/colab-badge.svg\" alt=\"Open In Colab\"/></a>"
      ]
    },
    {
      "cell_type": "markdown",
      "source": [
        "# モジュールと音声の読み込み"
      ],
      "metadata": {
        "id": "XbCGojmNhyMO"
      }
    },
    {
      "cell_type": "code",
      "execution_count": 1,
      "metadata": {
        "id": "BQBPkTSm0w37"
      },
      "outputs": [],
      "source": [
        "import numpy as np\n",
        "import sys\n",
        "sys.path.append('/content/drive/MyDrive/Laboratory/Colab/overtone/modules')\n",
        "import wave_file as wav\n",
        "import window_function as wf\n",
        "import average_function as af\n",
        "import furie_function as ff\n",
        "import filter\n",
        "import helper"
      ]
    },
    {
      "cell_type": "code",
      "source": [
        "plain_sound_path = '/content/drive/MyDrive/Laboratory/Colab/overtone/sounds/plain.wav'\n",
        "fs, plain = wav.wave_read_16bit_mono(plain_sound_path)\n",
        "\n",
        "overtone_path = '/content/drive/MyDrive/Laboratory/Colab/overtone/sounds/overtone.wav'\n",
        "fs, overtone = wav.wave_read_16bit_mono(overtone_path)"
      ],
      "metadata": {
        "id": "Q-9JFYsw9AHB"
      },
      "execution_count": 2,
      "outputs": []
    },
    {
      "cell_type": "markdown",
      "source": [
        "# 定数の定義"
      ],
      "metadata": {
        "id": "ewxWa4JZCJe_"
      }
    },
    {
      "cell_type": "code",
      "source": [
        "length_of_plain = len(plain)\n",
        "length_of_overtone = len(overtone)\n",
        "\n",
        "N = 4096\n",
        "\n",
        "band_width = 8\n",
        "number_of_band = int(N / 2 / band_width)\n",
        "number_of_frame = int((length_of_plain - N / 2) / (N / 2))\n",
        "\n",
        "master_volume = 0.5\n",
        "\n",
        "new_sound_name = \"1.wav\""
      ],
      "metadata": {
        "id": "lcK9GdzdCMRk"
      },
      "execution_count": 3,
      "outputs": []
    },
    {
      "cell_type": "markdown",
      "source": [
        "# 配列の準備"
      ],
      "metadata": {
        "id": "6kSuS33hL20V"
      }
    },
    {
      "cell_type": "code",
      "source": [
        "overtone = filter.highpass_filter(overtone)\n",
        "\n",
        "x = np.zeros(N)\n",
        "b = np.zeros(N)\n",
        "Y = np.zeros(N, dtype = np.complex)\n",
        "new_sound = np.zeros(length_of_plain)"
      ],
      "metadata": {
        "id": "8bVE4mpsLyEs"
      },
      "execution_count": 4,
      "outputs": []
    },
    {
      "cell_type": "markdown",
      "source": [
        "# 本処理"
      ],
      "metadata": {
        "id": "ZuoWL8RWh7j8"
      }
    },
    {
      "cell_type": "code",
      "source": [
        "offset = 48000\n",
        "b = wf.symply_multiple_hanning_window(offset, b, overtone)\n",
        "B = np.abs(np.fft.fft(b, N))\n",
        "\n",
        "for band in range(number_of_band):\n",
        "    offset = band_width * band\n",
        "    for k in range(band_width):\n",
        "        B[offset + k] = af.get_average(band_width, offset, B)\n",
        "\n",
        "# 折返し処理\n",
        "B = ff.symmetric_copy(B)\n",
        "\n",
        "for frame in range(number_of_frame):\n",
        "    offset = int(N / 2) * frame\n",
        "\n",
        "    x = wf.symply_multiple_hanning_window(offset, x, plain)\n",
        "    X = np.fft.fft(x, N)\n",
        "    Y = ff.convolution(X, B)\n",
        "    y = np.real(np.fft.ifft(Y, N))\n",
        "\n",
        "    for n in range(N):\n",
        "        new_sound[offset + n] += y[n]\n",
        "\n",
        "new_sound = helper.normalize_sound(new_sound, master_volume)\n",
        "wav.wave_write_16bit_mono(fs, new_sound, new_sound_name)"
      ],
      "metadata": {
        "id": "KkM1fx1X1Mtg"
      },
      "execution_count": 5,
      "outputs": []
    },
    {
      "cell_type": "code",
      "source": [
        "fs, new_sound_data = wav.wave_read_16bit_mono(new_sound_name)"
      ],
      "metadata": {
        "id": "m8Kaxk4SKj_f"
      },
      "execution_count": 6,
      "outputs": []
    },
    {
      "cell_type": "markdown",
      "source": [
        ""
      ],
      "metadata": {
        "id": "JL6TcB1LRkVw"
      }
    },
    {
      "cell_type": "code",
      "source": [
        ""
      ],
      "metadata": {
        "id": "y7so-HBlrE4o"
      },
      "execution_count": 6,
      "outputs": []
    },
    {
      "cell_type": "code",
      "source": [
        "distance_from_plain, path_from_plain = helper.get_euclidean_dtw(overtone, plain)\n",
        "distance_from_new, path_from_new = helper.get_euclidean_dtw(overtone, new_sound_data)\n",
        "print(\"元の音声とホーミーの距離: \", distance_from_plain)\n",
        "print(\"作った音声とホーミーの距離: \", distance_from_new)"
      ],
      "metadata": {
        "id": "G2Yga7HWQTa4",
        "colab": {
          "base_uri": "https://localhost:8080/"
        },
        "outputId": "c875318b-d8d6-4b9d-cdc7-13673e00e8f8"
      },
      "execution_count": 9,
      "outputs": [
        {
          "output_type": "stream",
          "name": "stdout",
          "text": [
            "元の音声とホーミーの距離:  3083.092301506377\n",
            "作った音声とホーミーの距離:  5826.240450069382\n"
          ]
        }
      ]
    }
  ]
}