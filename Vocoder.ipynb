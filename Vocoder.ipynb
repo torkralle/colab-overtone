{
  "nbformat": 4,
  "nbformat_minor": 0,
  "metadata": {
    "colab": {
      "name": "Vocoder",
      "provenance": [],
      "collapsed_sections": [
        "is5hRhC69H3z",
        "pZY5E5nVAITf",
        "YaodjMwIAiMC",
        "AX3l4ysoHo2z"
      ],
      "mount_file_id": "10FoOL6cWkj2NFB-gAf6_pSV_aIO7Sb48",
      "authorship_tag": "ABX9TyMqhsXGN/RAI9IC9feqR2xV",
      "include_colab_link": true
    },
    "kernelspec": {
      "name": "python3",
      "display_name": "Python 3"
    },
    "language_info": {
      "name": "python"
    }
  },
  "cells": [
    {
      "cell_type": "markdown",
      "metadata": {
        "id": "view-in-github",
        "colab_type": "text"
      },
      "source": [
        "<a href=\"https://colab.research.google.com/github/torkralle/colab-overtone/blob/master/Vocoder.ipynb\" target=\"_parent\"><img src=\"https://colab.research.google.com/assets/colab-badge.svg\" alt=\"Open In Colab\"/></a>"
      ]
    },
    {
      "cell_type": "markdown",
      "source": [
        "# 下準備"
      ],
      "metadata": {
        "id": "5xeyGYkOxAJH"
      }
    },
    {
      "cell_type": "markdown",
      "source": [
        "\n",
        "## ライブラリのインポート"
      ],
      "metadata": {
        "id": "is5hRhC69H3z"
      }
    },
    {
      "cell_type": "code",
      "execution_count": null,
      "metadata": {
        "id": "NwOk1DQw7dyN"
      },
      "outputs": [],
      "source": [
        "%matplotlib inline\n",
        "import sys\n",
        "from scipy.io import wavfile\n",
        "import numpy as np\n",
        "import matplotlib.pyplot as plt\n",
        "import librosa\n",
        "import librosa.display\n",
        "from IPython.display import display, Audio\n",
        "import scipy.io.wavfile\n",
        "import copy"
      ]
    },
    {
      "cell_type": "markdown",
      "source": [
        "## 音声のインポート"
      ],
      "metadata": {
        "id": "m6nuMoX4-Mvm"
      }
    },
    {
      "cell_type": "code",
      "source": [
        "# vocal_fs: rateボーカル音\n",
        "vocal_path = \"/content/drive/MyDrive/Laboratory/Colab/ホーミー対照音声1.wav\"\n",
        "vocal_fs, vocal_s = wavfile.read(vocal_path)\n",
        "\n",
        "# fs: rate, vocal_s: data ホーミー音 高音\n",
        "ot_path = \"/content/drive/MyDrive/Laboratory/Colab/高音.wav\"\n",
        "ot_fs, ot_s = wavfile.read(ot_path)"
      ],
      "metadata": {
        "id": "7ZSBNiqd7nHH"
      },
      "execution_count": null,
      "outputs": []
    },
    {
      "cell_type": "markdown",
      "source": [
        "## 関数の定義"
      ],
      "metadata": {
        "id": "VdWueodYAlwB"
      }
    },
    {
      "cell_type": "markdown",
      "source": [
        "### ハイパスフィルターの定義"
      ],
      "metadata": {
        "id": "pZY5E5nVAITf"
      }
    },
    {
      "cell_type": "code",
      "source": [
        "# 修正済み\n",
        "def highpass_filter(s, length_of_s): \n",
        "  # 操作用の配列を用意\n",
        "  d = np.zeros(length_of_s)\n",
        "  d[0] = 0\n",
        "  # ハイパスフィルターを掛ける\n",
        "  for n in range(1, length_of_s):\n",
        "    d[n] = s[n] - 0.98 * s[n-1]\n",
        "\n",
        "  sc = copy.deepcopy(s)\n",
        "  for n in range(length_of_s):\n",
        "    sc[n] = d[n]\n",
        "  \n",
        "  return sc"
      ],
      "metadata": {
        "id": "-1fXzEovAGxX"
      },
      "execution_count": null,
      "outputs": []
    },
    {
      "cell_type": "markdown",
      "source": [
        "### ハニング窓の定義"
      ],
      "metadata": {
        "id": "YaodjMwIAiMC"
      }
    },
    {
      "cell_type": "code",
      "source": [
        "def hanning_window(N):\n",
        "    w = np.zeros(N)\n",
        "    if N % 2 == 0:\n",
        "        for n in range(N):\n",
        "            w[n] = 0.5 - 0.5 * np.cos(2 * np.pi * n / N)\n",
        "    else:\n",
        "        for n in range(N):\n",
        "            w[n] = 0.5 - 0.5 * np.cos(2 * np.pi * (n + 0.5) / N)\n",
        "    return w"
      ],
      "metadata": {
        "id": "zEeXjl-Z7rVH"
      },
      "execution_count": null,
      "outputs": []
    },
    {
      "cell_type": "markdown",
      "source": [
        "### 音声データの作成関数の定義"
      ],
      "metadata": {
        "id": "quCE0wLgxZTn"
      }
    },
    {
      "cell_type": "code",
      "source": [
        "def new_audio(fs, s, t, name):\n",
        "  s = s * 1 / (np.max(np.abs(s)))\n",
        "  scipy.io.wavfile.write(f'out{name}.wav', fs, s)"
      ],
      "metadata": {
        "id": "Ixcmi4gvUC0_"
      },
      "execution_count": null,
      "outputs": []
    },
    {
      "cell_type": "markdown",
      "source": [
        "### 平均系の関数群の定義"
      ],
      "metadata": {
        "id": "kJ0hZFpmytkg"
      }
    },
    {
      "cell_type": "code",
      "source": [
        "def get_average(offset, B):\n",
        "    ave = 0\n",
        "    # Bのバンド幅内の平均を取る作業\t\n",
        "    for k in range(band_width):\n",
        "      ave = ave + B[offset + k]\n",
        "      ave = ave / band_width\n",
        "    return ave\n",
        "\n",
        "def pool_average(B):\n",
        "    for band in range(number_of_band):\n",
        "        # 開始位置の定義\n",
        "        offset = band_width * (band - 1) \n",
        "        for k in range(band_width):\n",
        "            B[offset + k] = get_average(offset, B)\n",
        "\n",
        "    B[0] = 0\n",
        "    B[int(np.round(N/2))] = 0\n",
        "\n",
        "    # 左右に代入\n",
        "    for k in range(1, int(np.round(N/2))):\n",
        "        B[N - k] = B[k]"
      ],
      "metadata": {
        "id": "U0qp7ETnyycg"
      },
      "execution_count": null,
      "outputs": []
    },
    {
      "cell_type": "markdown",
      "source": [
        "## データの前処理"
      ],
      "metadata": {
        "id": "3BqYGLapH2Hw"
      }
    },
    {
      "cell_type": "markdown",
      "source": [
        "### 必要な変数の定義"
      ],
      "metadata": {
        "id": "3E2JheeoxnVa"
      }
    },
    {
      "cell_type": "code",
      "source": [
        "# サンプリング周波数\n",
        "fs = 44100\n",
        "\n",
        "# 2**16 65536\n",
        "bits = 16\n",
        "normalize_value = 2 ** (bits - 1)\n",
        "\n",
        "# バッチ数\n",
        "N = 1024\n",
        "\n",
        "# 正規化\n",
        "vocal_s = vocal_s.astype(np.float) / normalize_value\n",
        "ot_s = ot_s.astype(np.float) / normalize_value\n",
        "\n",
        "# vocalとovertoneの配列の長さを取得\n",
        "length_of_vocal_s = len(vocal_s)\n",
        "length_of_ot_s = len(ot_s)\n",
        "print(f\"ボーカルの配列長 {length_of_vocal_s}\")\n",
        "print(f\"ホーミーの配列長 {length_of_ot_s}\")\n",
        "\n",
        "# ホーミーにハイパスフィルターを掛ける\n",
        "ot_s_copy = highpass_filter(ot_s, length_of_ot_s)\n",
        "s2 = np.zeros(length_of_vocal_s)"
      ],
      "metadata": {
        "id": "fSjrzo-t7qnE",
        "colab": {
          "base_uri": "https://localhost:8080/"
        },
        "outputId": "5b80633f-4334-4478-8785-1eee34d3d91c"
      },
      "execution_count": null,
      "outputs": [
        {
          "output_type": "stream",
          "name": "stdout",
          "text": [
            "ボーカルの配列長 141248\n",
            "ホーミーの配列長 133056\n"
          ]
        }
      ]
    },
    {
      "cell_type": "code",
      "source": [
        "# Nの数だけのゼロ配列\n",
        "x = np.zeros(N)\n",
        "b = np.zeros(N)\n",
        "\n",
        "# Nサイズのハニング窓\n",
        "w = hanning_window(N)\n",
        "Y = np.zeros(N)\n",
        "\n",
        "# N以外の場所を取って、フレーム数を調べる\n",
        "# オーバーラップアドで半分重なってるためフレーム数は\n",
        "number_of_frame = int(np.round((length_of_vocal_s - N/2) / (N/2)))\n",
        "\n",
        "# 8個取ってきて平均を取る \n",
        "# バンド幅が8であるから2*8で割る(フーリエ変換の折り返し分の2)\n",
        "band_width = 8\n",
        "number_of_band = int(np.round(N / 2 / band_width))"
      ],
      "metadata": {
        "id": "MtLF82fXBmvX"
      },
      "execution_count": null,
      "outputs": []
    },
    {
      "cell_type": "markdown",
      "source": [
        "### データの可視化\n"
      ],
      "metadata": {
        "id": "AX3l4ysoHo2z"
      }
    },
    {
      "cell_type": "code",
      "source": [
        "# 横軸（時間）の配列を作成　\n",
        "# np.arange(初項, 等差数列の終点, 等差)\n",
        "vocal_t = np.arange(0, vocal_s.shape[0]/vocal_fs, 1/vocal_fs)  \n",
        "plt.figure()\n",
        "plt.plot(vocal_t, vocal_s)\n",
        "plt.savefig('vocal_s.png')\n",
        "print(length_of_vocal_s)\n",
        "\n",
        "ot_t = np.arange(0, ot_s.shape[0]/ot_fs, 1/ot_fs)  \n",
        "plt.figure()\n",
        "plt.plot(ot_t, ot_s)\n",
        "plt.savefig('ot_s.png')\n",
        "print(length_of_ot_s)"
      ],
      "metadata": {
        "colab": {
          "base_uri": "https://localhost:8080/"
        },
        "id": "7mhlGMmOHi6q",
        "outputId": "e60bf156-1c92-4b87-9f02-ce9458c91d32"
      },
      "execution_count": null,
      "outputs": [
        {
          "output_type": "stream",
          "name": "stdout",
          "text": [
            "141248\n",
            "133056\n"
          ]
        },
        {
          "output_type": "display_data",
          "data": {
            "image/png": "[encoded data removed]",
            "text/plain": [
              "<Figure size 432x288 with 1 Axes>"
            ]
          },
          "metadata": {
            "needs_background": "light"
          }
        },
        {
          "output_type": "display_data",
          "data": {
            "image/png": "[encoded data removed]",
            "text/plain": [
              "<Figure size 432x288 with 1 Axes>"
            ]
          },
          "metadata": {
            "needs_background": "light"
          }
        }
      ]
    },
    {
      "cell_type": "markdown",
      "source": [
        "## 必要なデータの準備"
      ],
      "metadata": {
        "id": "KdIwT97hxyiw"
      }
    },
    {
      "cell_type": "markdown",
      "source": [
        "# 本処理"
      ],
      "metadata": {
        "id": "8mOVnuqOx5_a"
      }
    },
    {
      "cell_type": "code",
      "source": [
        "# 全フレームに対して操作を行う\n",
        "for frame in range(number_of_frame):\n",
        "    #  操作開始場所を定義\t\n",
        "    offset = int(np.round(N / 2 * (frame - 1)))\n",
        "    for n in range(N):\n",
        "        x[n] = vocal_s[offset + n] * w[n]\n",
        "\n",
        "\t\t# Xが楽器音\n",
        "    X = np.fft.fft(x)\n",
        "\n",
        "    # print(frame)\n",
        "    breakflag = False\n",
        "    for n in range(N):\n",
        "        ot_s_index = offset + n\n",
        "        if(ot_s_index == length_of_ot_s):\n",
        "          print(\"out\", ot_s_index, frame)\n",
        "          breakflag = True\n",
        "          break\n",
        "        b[n] = ot_s_copy[ot_s_index] * w[n]\n",
        "\n",
        "    if(breakflag):\n",
        "      break\n",
        "    \n",
        "    B = np.fft.fft(b)\n",
        "    \n",
        "    for k in range(N):\n",
        "        B[k] = abs(B[k])\n",
        "\n",
        "    # バンド幅で平均を取って再代入\n",
        "    pool_average(B)\n",
        " \n",
        "\t\t# ボーカル*ホーミーがY\n",
        "    for k in range(N):\n",
        "        Y[k] = X[k] * B[k]\n",
        "    \n",
        "    y = np.real(np.fft.ifft(Y))\n",
        "\n",
        "    offset =  int(np.round(N / 2 * (frame - 1)))\n",
        "\t\t# s2に足す\t\n",
        "    for n in range(N):\n",
        "        s2[offset+n] = s2[offset+n] + y[n]\n",
        "    \n",
        "s2 = s2 / max(s2) * 0.5\n",
        "\n",
        "new_audio(fs, s2, vocal_t, \"name\")"
      ],
      "metadata": {
        "id": "gtil-WKY7uRw",
        "colab": {
          "base_uri": "https://localhost:8080/"
        },
        "outputId": "09870851-2f25-4fc2-9352-9094dc14f439"
      },
      "execution_count": null,
      "outputs": [
        {
          "output_type": "stream",
          "name": "stderr",
          "text": [
            "/usr/local/lib/python3.7/dist-packages/ipykernel_launcher.py:34: ComplexWarning: Casting complex values to real discards the imaginary part\n"
          ]
        },
        {
          "output_type": "stream",
          "name": "stdout",
          "text": [
            "out 133056 259\n"
          ]
        },
        {
          "output_type": "stream",
          "name": "stderr",
          "text": [
            "/usr/local/lib/python3.7/dist-packages/ipykernel_launcher.py:30: ComplexWarning: Casting complex values to real discards the imaginary part\n"
          ]
        }
      ]
    },
    {
      "cell_type": "code",
      "source": [
        ""
      ],
      "metadata": {
        "id": "vsy8Om5UQUyJ"
      },
      "execution_count": null,
      "outputs": []
    }
  ]
}